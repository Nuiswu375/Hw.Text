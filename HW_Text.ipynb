{
  "nbformat": 4,
  "nbformat_minor": 0,
  "metadata": {
    "colab": {
      "name": "HW.Text",
      "provenance": []
    },
    "kernelspec": {
      "name": "python3",
      "display_name": "Python 3"
    }
  },
  "cells": [
    {
      "cell_type": "code",
      "metadata": {
        "id": "nXqbkycPAjEr",
        "colab_type": "code",
        "colab": {}
      },
      "source": [
        "from requests import get\n",
        "from bs4 import BeautifulSoup"
      ],
      "execution_count": 0,
      "outputs": []
    },
    {
      "cell_type": "markdown",
      "metadata": {
        "id": "so1K1z67Lq66",
        "colab_type": "text"
      },
      "source": [
        "**Home**\n"
      ]
    },
    {
      "cell_type": "code",
      "metadata": {
        "id": "FGWd6ZDkBxHU",
        "colab_type": "code",
        "colab": {}
      },
      "source": [
        "url = \"https://www.airvisual.com/thailand/bangkok/bang-bon\"\n",
        "respone = get(url)"
      ],
      "execution_count": 0,
      "outputs": []
    },
    {
      "cell_type": "code",
      "metadata": {
        "id": "g5TLS4wNB6qQ",
        "colab_type": "code",
        "colab": {}
      },
      "source": [
        "html_soup = BeautifulSoup(respone.text,'html.parser')"
      ],
      "execution_count": 0,
      "outputs": []
    },
    {
      "cell_type": "code",
      "metadata": {
        "colab_type": "code",
        "outputId": "ce3f0803-deab-479d-85e4-2dabe8dd8ad4",
        "id": "IpYVPUi9I8Dx",
        "colab": {
          "base_uri": "https://localhost:8080/",
          "height": 52
        }
      },
      "source": [
        "containers = html_soup.find_all('span',class_='aqi')\n",
        "print(type(containers))\n",
        "print(len(containers))"
      ],
      "execution_count": 41,
      "outputs": [
        {
          "output_type": "stream",
          "text": [
            "<class 'bs4.element.ResultSet'>\n",
            "2\n"
          ],
          "name": "stdout"
        }
      ]
    },
    {
      "cell_type": "code",
      "metadata": {
        "id": "z8udO4ZIJBeP",
        "colab_type": "code",
        "colab": {
          "base_uri": "https://localhost:8080/",
          "height": 52
        },
        "outputId": "f4f2c895-7ef9-4ba5-fca4-95366000f183"
      },
      "source": [
        "scontainers = html_soup.find_all('span',class_='status-text')\n",
        "print(type(scontainers))\n",
        "print(len(scontainers))"
      ],
      "execution_count": 42,
      "outputs": [
        {
          "output_type": "stream",
          "text": [
            "<class 'bs4.element.ResultSet'>\n",
            "1\n"
          ],
          "name": "stdout"
        }
      ]
    },
    {
      "cell_type": "code",
      "metadata": {
        "id": "HjFpHxABJEqN",
        "colab_type": "code",
        "colab": {}
      },
      "source": [
        "aqi = containers[1]\n",
        "status = scontainers[0]"
      ],
      "execution_count": 0,
      "outputs": []
    },
    {
      "cell_type": "code",
      "metadata": {
        "id": "-dqXUJWIL7hy",
        "colab_type": "code",
        "colab": {
          "base_uri": "https://localhost:8080/",
          "height": 35
        },
        "outputId": "54dd5c0c-3b3c-41f6-9848-8e0de18e8edb"
      },
      "source": [
        "print(\"aqi is \" + aqi.text + \"and status is \" + status.text)"
      ],
      "execution_count": 44,
      "outputs": [
        {
          "output_type": "stream",
          "text": [
            "aqi is 117and status is Unhealthy for Sensitive Groups\n"
          ],
          "name": "stdout"
        }
      ]
    },
    {
      "cell_type": "markdown",
      "metadata": {
        "id": "tNOP_2bPL-lr",
        "colab_type": "text"
      },
      "source": [
        "**Work**"
      ]
    },
    {
      "cell_type": "code",
      "metadata": {
        "id": "2JQcYMuMMBJX",
        "colab_type": "code",
        "colab": {}
      },
      "source": [
        "url = \"https://www.airvisual.com/thailand/bangkok/pathum-wan\"\n",
        "respone = get(url)"
      ],
      "execution_count": 0,
      "outputs": []
    },
    {
      "cell_type": "code",
      "metadata": {
        "id": "uwW4rIFrMRQs",
        "colab_type": "code",
        "colab": {}
      },
      "source": [
        "html_soup = BeautifulSoup(respone.text,'html.parser')"
      ],
      "execution_count": 0,
      "outputs": []
    },
    {
      "cell_type": "code",
      "metadata": {
        "id": "_zTCSTtGMUQT",
        "colab_type": "code",
        "colab": {
          "base_uri": "https://localhost:8080/",
          "height": 52
        },
        "outputId": "10c7ca27-010f-4a62-97a2-cbd03c1bf872"
      },
      "source": [
        "containers = html_soup.find_all('span',class_='aqi')\n",
        "print(type(containers))\n",
        "print(len(containers))"
      ],
      "execution_count": 65,
      "outputs": [
        {
          "output_type": "stream",
          "text": [
            "<class 'bs4.element.ResultSet'>\n",
            "2\n"
          ],
          "name": "stdout"
        }
      ]
    },
    {
      "cell_type": "code",
      "metadata": {
        "id": "TZxUrFe7NzG8",
        "colab_type": "code",
        "colab": {
          "base_uri": "https://localhost:8080/",
          "height": 52
        },
        "outputId": "32c0ee71-d011-4d9f-974a-5278fbe7febc"
      },
      "source": [
        "scontainers = html_soup.find_all('span',class_='status-text')\n",
        "print(type(scontainers))\n",
        "print(len(scontainers))"
      ],
      "execution_count": 66,
      "outputs": [
        {
          "output_type": "stream",
          "text": [
            "<class 'bs4.element.ResultSet'>\n",
            "1\n"
          ],
          "name": "stdout"
        }
      ]
    },
    {
      "cell_type": "code",
      "metadata": {
        "colab_type": "code",
        "id": "XfSRErIyN5sw",
        "colab": {}
      },
      "source": [
        "aqi = containers[1]\n",
        "status = scontainers[0]"
      ],
      "execution_count": 0,
      "outputs": []
    },
    {
      "cell_type": "code",
      "metadata": {
        "colab_type": "code",
        "outputId": "8542a948-801e-42ba-8471-4371905afb18",
        "id": "kljyS52yOAPJ",
        "colab": {
          "base_uri": "https://localhost:8080/",
          "height": 35
        }
      },
      "source": [
        "print(\"aqi is \" + aqi.text + \"and status is \" + status.text)"
      ],
      "execution_count": 68,
      "outputs": [
        {
          "output_type": "stream",
          "text": [
            "aqi is 100and status is Moderate\n"
          ],
          "name": "stdout"
        }
      ]
    }
  ]
}